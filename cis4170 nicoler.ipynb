{
 "cells": [
  {
   "cell_type": "code",
   "execution_count": 2,
   "metadata": {},
   "outputs": [],
   "source": [
    "import pandas as pd"
   ]
  },
  {
   "cell_type": "code",
   "execution_count": 3,
   "metadata": {},
   "outputs": [],
   "source": [
    "import matplotlib.pyplot as plt\n",
    "import numpy as np"
   ]
  },
  {
   "cell_type": "code",
   "execution_count": 4,
   "metadata": {},
   "outputs": [
    {
     "name": "stdout",
     "output_type": "stream",
     "text": [
      "<bound method DataFrame.info of           RequestID           Boro    Yr   M   D  HH  MM  Vol  SegmentID  \\\n",
      "0             20856         Queens  2015   6  23  23  30    9     171896   \n",
      "1             21231  Staten Island  2015   9  14   4  15    6       9896   \n",
      "2             29279          Bronx  2017  10  19   4  30   85      77817   \n",
      "3             27019       Brooklyn  2017  11   7  18  30  168     188023   \n",
      "4             26734      Manhattan  2017  11   3  22   0  355     137516   \n",
      "...             ...            ...   ...  ..  ..  ..  ..  ...        ...   \n",
      "27190506      28843         Queens  2019   1  11   3  30   13      48625   \n",
      "27190507      21109       Brooklyn  2015   9  28  18  45   65      45144   \n",
      "27190508      23455         Queens  2016   5  23  13  30   55     149068   \n",
      "27190509      22517          Bronx  2016   3  19   9   0   82      89528   \n",
      "27190510      10450         Queens  2012  10  19   0  30   20      69002   \n",
      "\n",
      "                                                WktGeom              street  \\\n",
      "0          POINT (1052296.600156678 199785.26932711253)           94 AVENUE   \n",
      "1             POINT (942668.0589509147 171441.21296926)    RICHMOND TERRACE   \n",
      "2         POINT (1016508.0034050211 235221.59092266942)  HUNTS POINT AVENUE   \n",
      "3          POINT (992925.4316054962 184116.82855457635)     FLATBUSH AVENUE   \n",
      "4         POINT (1004175.9505178436 247779.63624949602)   WASHINGTON BRIDGE   \n",
      "...                                                 ...                 ...   \n",
      "27190506  POINT (1010498.7141876142 198418.68389121862)       FOREST AVENUE   \n",
      "27190507   POINT (1007888.490398333 194036.05423851966)       IRVING AVENUE   \n",
      "27190508   POINT (1024888.1767334475 211528.3190361287)          111 STREET   \n",
      "27190509   POINT (1026078.0476007946 269670.6741176347)   WHITE PLAINS ROAD   \n",
      "27190510                     POINT (1009571.4 220310.5)               23 AV   \n",
      "\n",
      "                          fromSt                     toSt Direction  \n",
      "0                     207 Street  Francis Lewis Boulevard        WB  \n",
      "1                  Wright Avenue             Emeric Court        WB  \n",
      "2                Whittier Street           Randall Avenue        NB  \n",
      "3                  Brighton Line            Brighton Line        NB  \n",
      "4         Harlem River Shoreline   Harlem River Shoreline        EB  \n",
      "...                          ...                      ...       ...  \n",
      "27190506           Greene Avenue          Bleecker Street        NB  \n",
      "27190507            Grove Street            Myrtle Avenue        SB  \n",
      "27190508               48 Avenue                47 Avenue        NB  \n",
      "27190509         East 243 Street                 Dead end        SB  \n",
      "27190510                   38 ST              STEINWAY ST        SB  \n",
      "\n",
      "[27190511 rows x 14 columns]>\n",
      "(27190511, 14)\n"
     ]
    },
    {
     "data": {
      "text/html": [
       "<div>\n",
       "<style scoped>\n",
       "    .dataframe tbody tr th:only-of-type {\n",
       "        vertical-align: middle;\n",
       "    }\n",
       "\n",
       "    .dataframe tbody tr th {\n",
       "        vertical-align: top;\n",
       "    }\n",
       "\n",
       "    .dataframe thead th {\n",
       "        text-align: right;\n",
       "    }\n",
       "</style>\n",
       "<table border=\"1\" class=\"dataframe\">\n",
       "  <thead>\n",
       "    <tr style=\"text-align: right;\">\n",
       "      <th></th>\n",
       "      <th>RequestID</th>\n",
       "      <th>Boro</th>\n",
       "      <th>Yr</th>\n",
       "      <th>M</th>\n",
       "      <th>D</th>\n",
       "      <th>HH</th>\n",
       "      <th>MM</th>\n",
       "      <th>Vol</th>\n",
       "      <th>SegmentID</th>\n",
       "      <th>WktGeom</th>\n",
       "      <th>street</th>\n",
       "      <th>fromSt</th>\n",
       "      <th>toSt</th>\n",
       "      <th>Direction</th>\n",
       "    </tr>\n",
       "  </thead>\n",
       "  <tbody>\n",
       "    <tr>\n",
       "      <th>0</th>\n",
       "      <td>20856</td>\n",
       "      <td>Queens</td>\n",
       "      <td>2015</td>\n",
       "      <td>6</td>\n",
       "      <td>23</td>\n",
       "      <td>23</td>\n",
       "      <td>30</td>\n",
       "      <td>9</td>\n",
       "      <td>171896</td>\n",
       "      <td>POINT (1052296.600156678 199785.26932711253)</td>\n",
       "      <td>94 AVENUE</td>\n",
       "      <td>207 Street</td>\n",
       "      <td>Francis Lewis Boulevard</td>\n",
       "      <td>WB</td>\n",
       "    </tr>\n",
       "    <tr>\n",
       "      <th>1</th>\n",
       "      <td>21231</td>\n",
       "      <td>Staten Island</td>\n",
       "      <td>2015</td>\n",
       "      <td>9</td>\n",
       "      <td>14</td>\n",
       "      <td>4</td>\n",
       "      <td>15</td>\n",
       "      <td>6</td>\n",
       "      <td>9896</td>\n",
       "      <td>POINT (942668.0589509147 171441.21296926)</td>\n",
       "      <td>RICHMOND TERRACE</td>\n",
       "      <td>Wright Avenue</td>\n",
       "      <td>Emeric Court</td>\n",
       "      <td>WB</td>\n",
       "    </tr>\n",
       "    <tr>\n",
       "      <th>2</th>\n",
       "      <td>29279</td>\n",
       "      <td>Bronx</td>\n",
       "      <td>2017</td>\n",
       "      <td>10</td>\n",
       "      <td>19</td>\n",
       "      <td>4</td>\n",
       "      <td>30</td>\n",
       "      <td>85</td>\n",
       "      <td>77817</td>\n",
       "      <td>POINT (1016508.0034050211 235221.59092266942)</td>\n",
       "      <td>HUNTS POINT AVENUE</td>\n",
       "      <td>Whittier Street</td>\n",
       "      <td>Randall Avenue</td>\n",
       "      <td>NB</td>\n",
       "    </tr>\n",
       "    <tr>\n",
       "      <th>3</th>\n",
       "      <td>27019</td>\n",
       "      <td>Brooklyn</td>\n",
       "      <td>2017</td>\n",
       "      <td>11</td>\n",
       "      <td>7</td>\n",
       "      <td>18</td>\n",
       "      <td>30</td>\n",
       "      <td>168</td>\n",
       "      <td>188023</td>\n",
       "      <td>POINT (992925.4316054962 184116.82855457635)</td>\n",
       "      <td>FLATBUSH AVENUE</td>\n",
       "      <td>Brighton Line</td>\n",
       "      <td>Brighton Line</td>\n",
       "      <td>NB</td>\n",
       "    </tr>\n",
       "    <tr>\n",
       "      <th>4</th>\n",
       "      <td>26734</td>\n",
       "      <td>Manhattan</td>\n",
       "      <td>2017</td>\n",
       "      <td>11</td>\n",
       "      <td>3</td>\n",
       "      <td>22</td>\n",
       "      <td>0</td>\n",
       "      <td>355</td>\n",
       "      <td>137516</td>\n",
       "      <td>POINT (1004175.9505178436 247779.63624949602)</td>\n",
       "      <td>WASHINGTON BRIDGE</td>\n",
       "      <td>Harlem River Shoreline</td>\n",
       "      <td>Harlem River Shoreline</td>\n",
       "      <td>EB</td>\n",
       "    </tr>\n",
       "  </tbody>\n",
       "</table>\n",
       "</div>"
      ],
      "text/plain": [
       "   RequestID           Boro    Yr   M   D  HH  MM  Vol  SegmentID  \\\n",
       "0      20856         Queens  2015   6  23  23  30    9     171896   \n",
       "1      21231  Staten Island  2015   9  14   4  15    6       9896   \n",
       "2      29279          Bronx  2017  10  19   4  30   85      77817   \n",
       "3      27019       Brooklyn  2017  11   7  18  30  168     188023   \n",
       "4      26734      Manhattan  2017  11   3  22   0  355     137516   \n",
       "\n",
       "                                         WktGeom              street  \\\n",
       "0   POINT (1052296.600156678 199785.26932711253)           94 AVENUE   \n",
       "1      POINT (942668.0589509147 171441.21296926)    RICHMOND TERRACE   \n",
       "2  POINT (1016508.0034050211 235221.59092266942)  HUNTS POINT AVENUE   \n",
       "3   POINT (992925.4316054962 184116.82855457635)     FLATBUSH AVENUE   \n",
       "4  POINT (1004175.9505178436 247779.63624949602)   WASHINGTON BRIDGE   \n",
       "\n",
       "                   fromSt                     toSt Direction  \n",
       "0              207 Street  Francis Lewis Boulevard        WB  \n",
       "1           Wright Avenue             Emeric Court        WB  \n",
       "2         Whittier Street           Randall Avenue        NB  \n",
       "3           Brighton Line            Brighton Line        NB  \n",
       "4  Harlem River Shoreline   Harlem River Shoreline        EB  "
      ]
     },
     "execution_count": 4,
     "metadata": {},
     "output_type": "execute_result"
    }
   ],
   "source": [
    "df = pd.read_csv(\"/Users/nicolerodriguez/Downloads/Automated_Traffic_Volume_Counts.csv\")\n",
    "\n",
    "print(df.info)\n",
    "print(df.shape)\n",
    "df.head()"
   ]
  },
  {
   "cell_type": "code",
   "execution_count": 5,
   "metadata": {},
   "outputs": [
    {
     "data": {
      "text/plain": [
       "RequestID       0\n",
       "Boro            0\n",
       "Yr              0\n",
       "M               0\n",
       "D               0\n",
       "HH              0\n",
       "MM              0\n",
       "Vol             0\n",
       "SegmentID       0\n",
       "WktGeom         0\n",
       "street          0\n",
       "fromSt          0\n",
       "toSt         2002\n",
       "Direction       0\n",
       "dtype: int64"
      ]
     },
     "execution_count": 5,
     "metadata": {},
     "output_type": "execute_result"
    }
   ],
   "source": [
    "df.isnull().sum()\n"
   ]
  },
  {
   "cell_type": "code",
   "execution_count": 6,
   "metadata": {},
   "outputs": [],
   "source": [
    "df.dropna(inplace=True)\n"
   ]
  },
  {
   "cell_type": "code",
   "execution_count": 7,
   "metadata": {},
   "outputs": [
    {
     "data": {
      "text/plain": [
       "RequestID    0\n",
       "Boro         0\n",
       "Yr           0\n",
       "M            0\n",
       "D            0\n",
       "HH           0\n",
       "MM           0\n",
       "Vol          0\n",
       "SegmentID    0\n",
       "WktGeom      0\n",
       "street       0\n",
       "fromSt       0\n",
       "toSt         0\n",
       "Direction    0\n",
       "dtype: int64"
      ]
     },
     "execution_count": 7,
     "metadata": {},
     "output_type": "execute_result"
    }
   ],
   "source": [
    "df.isnull().sum()\n"
   ]
  },
  {
   "cell_type": "code",
   "execution_count": 8,
   "metadata": {},
   "outputs": [
    {
     "data": {
      "text/plain": [
       "Boro\n",
       "Brooklyn         7993054\n",
       "Queens           6980516\n",
       "Manhattan        6099522\n",
       "Bronx            4556119\n",
       "Staten Island    1559298\n",
       "Name: count, dtype: int64"
      ]
     },
     "execution_count": 8,
     "metadata": {},
     "output_type": "execute_result"
    }
   ],
   "source": [
    "df['Boro'].value_counts()"
   ]
  },
  {
   "cell_type": "code",
   "execution_count": 9,
   "metadata": {},
   "outputs": [
    {
     "data": {
      "text/plain": [
       "Direction\n",
       "NB    7072250\n",
       "SB    7001464\n",
       "EB    6623134\n",
       "WB    6481307\n",
       "EW       7390\n",
       "NS       2964\n",
       "Name: count, dtype: int64"
      ]
     },
     "execution_count": 9,
     "metadata": {},
     "output_type": "execute_result"
    }
   ],
   "source": [
    "df['Direction'].value_counts()"
   ]
  },
  {
   "cell_type": "code",
   "execution_count": 10,
   "metadata": {},
   "outputs": [
    {
     "data": {
      "text/plain": [
       "M\n",
       "10    5762857\n",
       "6     3767536\n",
       "11    3355795\n",
       "9     2454440\n",
       "5     2228728\n",
       "4     2111564\n",
       "3     1948314\n",
       "1     1691921\n",
       "2     1501220\n",
       "12     870211\n",
       "8      749629\n",
       "7      746294\n",
       "Name: count, dtype: int64"
      ]
     },
     "execution_count": 10,
     "metadata": {},
     "output_type": "execute_result"
    }
   ],
   "source": [
    "df['M'].value_counts()"
   ]
  },
  {
   "cell_type": "code",
   "execution_count": 11,
   "metadata": {},
   "outputs": [],
   "source": [
    "# Mapping dictionary\n",
    "month_mapping = {\n",
    "    1: 'January',\n",
    "    2: 'February',\n",
    "    3: 'March',\n",
    "    4: 'April',\n",
    "    5: 'May',\n",
    "    6: 'June',\n",
    "    7: 'July',\n",
    "    8: 'August',\n",
    "    9: 'September',\n",
    "    10: 'October',\n",
    "    11: 'November',\n",
    "    12: 'December'\n",
    "}\n",
    "df['Months'] = df['M'].map(month_mapping)\n",
    "df = df[df['M'] != '']"
   ]
  },
  {
   "cell_type": "code",
   "execution_count": 12,
   "metadata": {},
   "outputs": [
    {
     "data": {
      "text/html": [
       "<div>\n",
       "<style scoped>\n",
       "    .dataframe tbody tr th:only-of-type {\n",
       "        vertical-align: middle;\n",
       "    }\n",
       "\n",
       "    .dataframe tbody tr th {\n",
       "        vertical-align: top;\n",
       "    }\n",
       "\n",
       "    .dataframe thead th {\n",
       "        text-align: right;\n",
       "    }\n",
       "</style>\n",
       "<table border=\"1\" class=\"dataframe\">\n",
       "  <thead>\n",
       "    <tr style=\"text-align: right;\">\n",
       "      <th></th>\n",
       "      <th>RequestID</th>\n",
       "      <th>Boro</th>\n",
       "      <th>Yr</th>\n",
       "      <th>M</th>\n",
       "      <th>D</th>\n",
       "      <th>HH</th>\n",
       "      <th>MM</th>\n",
       "      <th>Vol</th>\n",
       "      <th>SegmentID</th>\n",
       "      <th>WktGeom</th>\n",
       "      <th>street</th>\n",
       "      <th>fromSt</th>\n",
       "      <th>toSt</th>\n",
       "      <th>Direction</th>\n",
       "      <th>Months</th>\n",
       "    </tr>\n",
       "  </thead>\n",
       "  <tbody>\n",
       "    <tr>\n",
       "      <th>0</th>\n",
       "      <td>20856</td>\n",
       "      <td>Queens</td>\n",
       "      <td>2015</td>\n",
       "      <td>6</td>\n",
       "      <td>23</td>\n",
       "      <td>23</td>\n",
       "      <td>30</td>\n",
       "      <td>9</td>\n",
       "      <td>171896</td>\n",
       "      <td>POINT (1052296.600156678 199785.26932711253)</td>\n",
       "      <td>94 AVENUE</td>\n",
       "      <td>207 Street</td>\n",
       "      <td>Francis Lewis Boulevard</td>\n",
       "      <td>WB</td>\n",
       "      <td>June</td>\n",
       "    </tr>\n",
       "    <tr>\n",
       "      <th>1</th>\n",
       "      <td>21231</td>\n",
       "      <td>Staten Island</td>\n",
       "      <td>2015</td>\n",
       "      <td>9</td>\n",
       "      <td>14</td>\n",
       "      <td>4</td>\n",
       "      <td>15</td>\n",
       "      <td>6</td>\n",
       "      <td>9896</td>\n",
       "      <td>POINT (942668.0589509147 171441.21296926)</td>\n",
       "      <td>RICHMOND TERRACE</td>\n",
       "      <td>Wright Avenue</td>\n",
       "      <td>Emeric Court</td>\n",
       "      <td>WB</td>\n",
       "      <td>September</td>\n",
       "    </tr>\n",
       "    <tr>\n",
       "      <th>2</th>\n",
       "      <td>29279</td>\n",
       "      <td>Bronx</td>\n",
       "      <td>2017</td>\n",
       "      <td>10</td>\n",
       "      <td>19</td>\n",
       "      <td>4</td>\n",
       "      <td>30</td>\n",
       "      <td>85</td>\n",
       "      <td>77817</td>\n",
       "      <td>POINT (1016508.0034050211 235221.59092266942)</td>\n",
       "      <td>HUNTS POINT AVENUE</td>\n",
       "      <td>Whittier Street</td>\n",
       "      <td>Randall Avenue</td>\n",
       "      <td>NB</td>\n",
       "      <td>October</td>\n",
       "    </tr>\n",
       "    <tr>\n",
       "      <th>3</th>\n",
       "      <td>27019</td>\n",
       "      <td>Brooklyn</td>\n",
       "      <td>2017</td>\n",
       "      <td>11</td>\n",
       "      <td>7</td>\n",
       "      <td>18</td>\n",
       "      <td>30</td>\n",
       "      <td>168</td>\n",
       "      <td>188023</td>\n",
       "      <td>POINT (992925.4316054962 184116.82855457635)</td>\n",
       "      <td>FLATBUSH AVENUE</td>\n",
       "      <td>Brighton Line</td>\n",
       "      <td>Brighton Line</td>\n",
       "      <td>NB</td>\n",
       "      <td>November</td>\n",
       "    </tr>\n",
       "    <tr>\n",
       "      <th>4</th>\n",
       "      <td>26734</td>\n",
       "      <td>Manhattan</td>\n",
       "      <td>2017</td>\n",
       "      <td>11</td>\n",
       "      <td>3</td>\n",
       "      <td>22</td>\n",
       "      <td>0</td>\n",
       "      <td>355</td>\n",
       "      <td>137516</td>\n",
       "      <td>POINT (1004175.9505178436 247779.63624949602)</td>\n",
       "      <td>WASHINGTON BRIDGE</td>\n",
       "      <td>Harlem River Shoreline</td>\n",
       "      <td>Harlem River Shoreline</td>\n",
       "      <td>EB</td>\n",
       "      <td>November</td>\n",
       "    </tr>\n",
       "  </tbody>\n",
       "</table>\n",
       "</div>"
      ],
      "text/plain": [
       "   RequestID           Boro    Yr   M   D  HH  MM  Vol  SegmentID  \\\n",
       "0      20856         Queens  2015   6  23  23  30    9     171896   \n",
       "1      21231  Staten Island  2015   9  14   4  15    6       9896   \n",
       "2      29279          Bronx  2017  10  19   4  30   85      77817   \n",
       "3      27019       Brooklyn  2017  11   7  18  30  168     188023   \n",
       "4      26734      Manhattan  2017  11   3  22   0  355     137516   \n",
       "\n",
       "                                         WktGeom              street  \\\n",
       "0   POINT (1052296.600156678 199785.26932711253)           94 AVENUE   \n",
       "1      POINT (942668.0589509147 171441.21296926)    RICHMOND TERRACE   \n",
       "2  POINT (1016508.0034050211 235221.59092266942)  HUNTS POINT AVENUE   \n",
       "3   POINT (992925.4316054962 184116.82855457635)     FLATBUSH AVENUE   \n",
       "4  POINT (1004175.9505178436 247779.63624949602)   WASHINGTON BRIDGE   \n",
       "\n",
       "                   fromSt                     toSt Direction     Months  \n",
       "0              207 Street  Francis Lewis Boulevard        WB       June  \n",
       "1           Wright Avenue             Emeric Court        WB  September  \n",
       "2         Whittier Street           Randall Avenue        NB    October  \n",
       "3           Brighton Line            Brighton Line        NB   November  \n",
       "4  Harlem River Shoreline   Harlem River Shoreline        EB   November  "
      ]
     },
     "execution_count": 12,
     "metadata": {},
     "output_type": "execute_result"
    }
   ],
   "source": [
    "df.head()"
   ]
  },
  {
   "cell_type": "code",
   "execution_count": 13,
   "metadata": {},
   "outputs": [
    {
     "data": {
      "text/plain": [
       "(27188509, 15)"
      ]
     },
     "execution_count": 13,
     "metadata": {},
     "output_type": "execute_result"
    }
   ],
   "source": [
    "df.shape"
   ]
  },
  {
   "cell_type": "code",
   "execution_count": 26,
   "metadata": {},
   "outputs": [
    {
     "data": {
      "image/png": "[encoded data removed]",
      "text/plain": [
       "<Figure size 1000x600 with 1 Axes>"
      ]
     },
     "metadata": {},
     "output_type": "display_data"
    }
   ],
   "source": [
    "#horizontal bar plot \n",
    "\n",
    "#sample size of 100000 due to large dataset having (27188509, 15)\n",
    "sampled_df = df.sample(n=100000, random_state=42)\n",
    "plt.figure(figsize=(10, 6))\n",
    "plt.barh(sampled_df['Months'], sampled_df['Vol'], color='skyblue', label=\"Traffic Volume\")\n",
    "\n",
    "#labels\n",
    "plt.xlabel('Volume')\n",
    "plt.ylabel('Months')\n",
    "plt.title('Traffic Volume by Month')\n",
    "#legend\n",
    "plt.legend(loc='upper right')\n",
    "plt.show()"
   ]
  }
 ],
 "metadata": {
  "kernelspec": {
   "display_name": "env3",
   "language": "python",
   "name": "python3"
  },
  "language_info": {
   "codemirror_mode": {
    "name": "ipython",
    "version": 3
   },
   "file_extension": ".py",
   "mimetype": "text/x-python",
   "name": "python",
   "nbconvert_exporter": "python",
   "pygments_lexer": "ipython3",
   "version": "3.10.16"
  }
 },
 "nbformat": 4,
 "nbformat_minor": 2
}
